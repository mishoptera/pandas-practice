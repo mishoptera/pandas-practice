{
 "cells": [
  {
   "cell_type": "markdown",
   "metadata": {},
   "source": [
    "# Ex2 - Filtering and Sorting Data"
   ]
  },
  {
   "cell_type": "markdown",
   "metadata": {},
   "source": [
    "This time we are going to pull data directly from the internet.\n",
    "\n",
    "### Step 1. Import the necessary libraries"
   ]
  },
  {
   "cell_type": "code",
   "execution_count": 1,
   "metadata": {
    "collapsed": false
   },
   "outputs": [],
   "source": [
    "import pandas as pd"
   ]
  },
  {
   "cell_type": "markdown",
   "metadata": {},
   "source": [
    "### Step 2. Import the dataset from this [address](https://raw.githubusercontent.com/guipsamora/pandas_exercises/master/02_Filtering_%26_Sorting/Euro12/Euro_2012_stats_TEAM.csv). "
   ]
  },
  {
   "cell_type": "markdown",
   "metadata": {},
   "source": [
    "### Step 3. Assign it to a variable called euro12."
   ]
  },
  {
   "cell_type": "code",
   "execution_count": 5,
   "metadata": {
    "collapsed": false
   },
   "outputs": [
    {
     "data": {
      "text/plain": [
       "Index(['Team', 'Goals', 'Shots on target', 'Shots off target',\n",
       "       'Shooting Accuracy', '% Goals-to-shots', 'Total shots (inc. Blocked)',\n",
       "       'Hit Woodwork', 'Penalty goals', 'Penalties not scored', 'Headed goals',\n",
       "       'Passes', 'Passes completed', 'Passing Accuracy', 'Touches', 'Crosses',\n",
       "       'Dribbles', 'Corners Taken', 'Tackles', 'Clearances', 'Interceptions',\n",
       "       'Clearances off line', 'Clean Sheets', 'Blocks', 'Goals conceded',\n",
       "       'Saves made', 'Saves-to-shots ratio', 'Fouls Won', 'Fouls Conceded',\n",
       "       'Offsides', 'Yellow Cards', 'Red Cards', 'Subs on', 'Subs off',\n",
       "       'Players Used'],\n",
       "      dtype='object')"
      ]
     },
     "execution_count": 5,
     "metadata": {},
     "output_type": "execute_result"
    }
   ],
   "source": [
    "url = 'https://raw.githubusercontent.com/guipsamora/pandas_exercises/master/02_Filtering_%26_Sorting/Euro12/Euro_2012_stats_TEAM.csv'\n",
    "euro12 = pd.read_csv(url, sep = ',')\n",
    "euro12.columns"
   ]
  },
  {
   "cell_type": "markdown",
   "metadata": {},
   "source": [
    "### Step 4. Select only the Goal column."
   ]
  },
  {
   "cell_type": "code",
   "execution_count": 8,
   "metadata": {
    "collapsed": false
   },
   "outputs": [
    {
     "data": {
      "text/plain": [
       "0      4\n",
       "1      4\n",
       "2      4\n",
       "3      5\n",
       "4      3\n",
       "5     10\n",
       "6      5\n",
       "7      6\n",
       "8      2\n",
       "9      2\n",
       "10     6\n",
       "11     1\n",
       "12     5\n",
       "13    12\n",
       "14     5\n",
       "15     2\n",
       "Name: Goals, dtype: int64"
      ]
     },
     "execution_count": 8,
     "metadata": {},
     "output_type": "execute_result"
    }
   ],
   "source": [
    "euro12.Goals"
   ]
  },
  {
   "cell_type": "markdown",
   "metadata": {},
   "source": [
    "### Step 5. How many team participated in the Euro2012?"
   ]
  },
  {
   "cell_type": "code",
   "execution_count": 9,
   "metadata": {
    "collapsed": false
   },
   "outputs": [
    {
     "data": {
      "text/plain": [
       "16"
      ]
     },
     "execution_count": 9,
     "metadata": {},
     "output_type": "execute_result"
    }
   ],
   "source": [
    "euro12['Team'].nunique()"
   ]
  },
  {
   "cell_type": "markdown",
   "metadata": {},
   "source": [
    "### Step 6. What is the number of columns in the dataset?"
   ]
  },
  {
   "cell_type": "code",
   "execution_count": 10,
   "metadata": {
    "collapsed": false
   },
   "outputs": [
    {
     "name": "stdout",
     "output_type": "stream",
     "text": [
      "<class 'pandas.core.frame.DataFrame'>\n",
      "RangeIndex: 16 entries, 0 to 15\n",
      "Data columns (total 35 columns):\n",
      "Team                          16 non-null object\n",
      "Goals                         16 non-null int64\n",
      "Shots on target               16 non-null int64\n",
      "Shots off target              16 non-null int64\n",
      "Shooting Accuracy             16 non-null object\n",
      "% Goals-to-shots              16 non-null object\n",
      "Total shots (inc. Blocked)    16 non-null int64\n",
      "Hit Woodwork                  16 non-null int64\n",
      "Penalty goals                 16 non-null int64\n",
      "Penalties not scored          16 non-null int64\n",
      "Headed goals                  16 non-null int64\n",
      "Passes                        16 non-null int64\n",
      "Passes completed              16 non-null int64\n",
      "Passing Accuracy              16 non-null object\n",
      "Touches                       16 non-null int64\n",
      "Crosses                       16 non-null int64\n",
      "Dribbles                      16 non-null int64\n",
      "Corners Taken                 16 non-null int64\n",
      "Tackles                       16 non-null int64\n",
      "Clearances                    16 non-null int64\n",
      "Interceptions                 16 non-null int64\n",
      "Clearances off line           15 non-null float64\n",
      "Clean Sheets                  16 non-null int64\n",
      "Blocks                        16 non-null int64\n",
      "Goals conceded                16 non-null int64\n",
      "Saves made                    16 non-null int64\n",
      "Saves-to-shots ratio          16 non-null object\n",
      "Fouls Won                     16 non-null int64\n",
      "Fouls Conceded                16 non-null int64\n",
      "Offsides                      16 non-null int64\n",
      "Yellow Cards                  16 non-null int64\n",
      "Red Cards                     16 non-null int64\n",
      "Subs on                       16 non-null int64\n",
      "Subs off                      16 non-null int64\n",
      "Players Used                  16 non-null int64\n",
      "dtypes: float64(1), int64(29), object(5)\n",
      "memory usage: 4.5+ KB\n"
     ]
    }
   ],
   "source": [
    "euro12.info()"
   ]
  },
  {
   "cell_type": "markdown",
   "metadata": {},
   "source": [
    "### Step 7. View only the columns Team, Yellow Cards and Red Cards and assign them to a dataframe called discipline"
   ]
  },
  {
   "cell_type": "code",
   "execution_count": null,
   "metadata": {
    "collapsed": false
   },
   "outputs": [],
   "source": []
  },
  {
   "cell_type": "markdown",
   "metadata": {},
   "source": [
    "### Step 8. Sort the teams by Red Cards, then to Yellow Cards"
   ]
  },
  {
   "cell_type": "code",
   "execution_count": null,
   "metadata": {
    "collapsed": false,
    "scrolled": true
   },
   "outputs": [],
   "source": []
  },
  {
   "cell_type": "markdown",
   "metadata": {},
   "source": [
    "### Step 9. Calculate the mean Yellow Cards given per Team"
   ]
  },
  {
   "cell_type": "code",
   "execution_count": null,
   "metadata": {
    "collapsed": false
   },
   "outputs": [],
   "source": []
  },
  {
   "cell_type": "markdown",
   "metadata": {},
   "source": [
    "### Step 10. Filter teams that scored more than 6 goals"
   ]
  },
  {
   "cell_type": "code",
   "execution_count": null,
   "metadata": {
    "collapsed": false
   },
   "outputs": [],
   "source": []
  },
  {
   "cell_type": "markdown",
   "metadata": {},
   "source": [
    "### Step 11. Select the teams that start with G"
   ]
  },
  {
   "cell_type": "code",
   "execution_count": null,
   "metadata": {
    "collapsed": false
   },
   "outputs": [],
   "source": []
  },
  {
   "cell_type": "markdown",
   "metadata": {},
   "source": [
    "### Step 12. Select the first 7 columns"
   ]
  },
  {
   "cell_type": "code",
   "execution_count": null,
   "metadata": {
    "collapsed": false
   },
   "outputs": [],
   "source": []
  },
  {
   "cell_type": "markdown",
   "metadata": {},
   "source": [
    "### Step 13. Select all columns except the last 3."
   ]
  },
  {
   "cell_type": "code",
   "execution_count": null,
   "metadata": {
    "collapsed": false
   },
   "outputs": [],
   "source": []
  },
  {
   "cell_type": "markdown",
   "metadata": {},
   "source": [
    "### Step 14. Present only the Shooting Accuracy from England, Italy and Russia"
   ]
  },
  {
   "cell_type": "code",
   "execution_count": null,
   "metadata": {
    "collapsed": false
   },
   "outputs": [],
   "source": []
  }
 ],
 "metadata": {
  "anaconda-cloud": {},
  "kernelspec": {
   "display_name": "Python 3",
   "language": "python",
   "name": "python3"
  },
  "language_info": {
   "codemirror_mode": {
    "name": "ipython",
    "version": 3
   },
   "file_extension": ".py",
   "mimetype": "text/x-python",
   "name": "python",
   "nbconvert_exporter": "python",
   "pygments_lexer": "ipython3",
   "version": "3.7.1"
  }
 },
 "nbformat": 4,
 "nbformat_minor": 2
}
